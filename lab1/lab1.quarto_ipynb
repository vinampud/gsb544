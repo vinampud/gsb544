{
  "cells": [
    {
      "cell_type": "markdown",
      "metadata": {},
      "source": [
        "Repo: [https://github.com/vinampud/gsb544/tree/main/lab1](https://github.com/vinampud/gsb544/tree/main/lab1)\n",
        "\n",
        "**Task 1**\n",
        "\n",
        "For Task 1's bubble chart, the:\n",
        "- x-axis: Income\n",
        "- y-axis: Life Expectancy\n",
        "- bubble size: Population size\n",
        "- Bubble color: grouped by 4 continent regions (asia, europe, americas, africa)\n",
        "- time bar/adjuster: year"
      ],
      "id": "118adb87"
    },
    {
      "cell_type": "code",
      "metadata": {},
      "source": [
        "%echo\n",
        "import pandas as pd\n",
        "import numpy as np\n",
        "from plotnine import *"
      ],
      "id": "148f1dc8",
      "execution_count": null,
      "outputs": []
    },
    {
      "cell_type": "code",
      "metadata": {},
      "source": [
        "q1data = \"..\\data\\q1data.csv\"\n",
        "df1 = pd.read_csv(q1data)\n",
        "print(df1.columns)"
      ],
      "id": "86b712b1",
      "execution_count": null,
      "outputs": []
    },
    {
      "cell_type": "markdown",
      "metadata": {},
      "source": [
        "recreating the plot"
      ],
      "id": "cfea9af3"
    },
    {
      "cell_type": "code",
      "metadata": {},
      "source": [
        "(ggplot(df1, aes(x=\"income\", y = \"life_exp\")) + \n",
        "geom_point(aes(size=\"population\", color =  \"four_regions\"), alpha=0.7) \n",
        "+ scale_x_continuous(\n",
        "    trans='log2',\n",
        "    limits=(0, 128000),\n",
        "    breaks=[500, 1000, 2000, 4000, 8000, 16000, 32000, 64000, 128000],\n",
        "    labels=['500', '1000', '2000', '4000', '8000', '16k', '32k', '64k', '128k']\n",
        ") \n",
        "+ scale_y_continuous(\n",
        "    limits=[0, 100],\n",
        "    breaks = np.arange(0, 101, 10)\n",
        ") \n",
        "+ scale_size_continuous(range=[0,20]) \n",
        "+ scale_color_manual(\n",
        "    values = {\n",
        "        \"africa\": \"blue\",\n",
        "        \"americas\": \"green\",\n",
        "        \"asia\": \"red\",\n",
        "        \"europe\": \"yellow\",\n",
        "        \"nan\": \"black\"\n",
        "    }\n",
        ")\n",
        ")"
      ],
      "id": "f6001205",
      "execution_count": null,
      "outputs": []
    },
    {
      "cell_type": "markdown",
      "metadata": {},
      "source": [
        "Alternate plot: boxplot"
      ],
      "id": "c9bb365f"
    },
    {
      "cell_type": "code",
      "metadata": {},
      "source": [
        "(ggplot(df1, aes(x=\"income\", y=\"life_exp\", fill=\"four_regions\")) + geom_boxplot())"
      ],
      "id": "647a1918",
      "execution_count": null,
      "outputs": []
    },
    {
      "cell_type": "markdown",
      "metadata": {},
      "source": [
        "This boxplot does a good job of giving a basic distribution of income in each of the four regios. The only drawback is the fact that we can't really account of population size. the Asia region has super large countries with super large populations. Also, the bubble chart had a bubbble for each individual country in the data, where as the boplot combines them into their region, going hand in hand with the population size drawback; we can't see the differences that larger/smaller countries make on the region's overall income vs life expectancy relationship.\n",
        "\n",
        "**Task 2**\n",
        "\n",
        "For Task 2's bubble chart, the:\n",
        "- x-axis: Exports / % of GDP\n",
        "- y-axis: Imports / % of GDP\n",
        "- bubble size: Energy Use\n",
        "- Bubble color: grouped by 4 continent regions (asia, europe, americas, africa)\n",
        "- time bar/adjuster: year"
      ],
      "id": "98440aac"
    },
    {
      "cell_type": "code",
      "metadata": {},
      "source": [
        "q2data = \"../data/q2data.csv\"\n",
        "df2 = pd.read_csv(q2data)\n",
        "print(df2.head())\n",
        "print(df2.columns)"
      ],
      "id": "e9ec904a",
      "execution_count": null,
      "outputs": []
    },
    {
      "cell_type": "code",
      "metadata": {},
      "source": [
        "def convert_to_float(val):\n",
        "    if isinstance(val, str):\n",
        "        val = val.strip().lower()\n",
        "        if val.endswith(\"k\"):\n",
        "            return float(val[:-1])*1000\n",
        "        else:\n",
        "            return float(val)\n",
        "\n",
        "df2[\"energy\"] = df2[\"energy\"].apply(convert_to_float)\n",
        "(ggplot(df2, aes(x=\"exports\", y = \"imports\")) + \n",
        "geom_point(aes(size=\"energy\", color =  \"four_regions\"), alpha = 0.7) + \n",
        "scale_x_continuous(\n",
        "    limits=(0, 200),\n",
        "    breaks = np.arange(0, 201, 20)\n",
        ") +\n",
        "scale_y_continuous(\n",
        "    limits=(0, 300),\n",
        "    breaks = np.arange(0, 301, 50)\n",
        ") + \n",
        "scale_size_continuous(range=[0,20]) +\n",
        "scale_color_manual(\n",
        "    values = {\n",
        "        \"africa\": \"blue\",\n",
        "        \"americas\": \"green\",\n",
        "        \"asia\": \"red\",\n",
        "        \"europe\": \"yellow\",\n",
        "        \"nan\": \"black\"\n",
        "    }\n",
        ")\n",
        ")"
      ],
      "id": "aa324205",
      "execution_count": null,
      "outputs": []
    },
    {
      "cell_type": "markdown",
      "metadata": {},
      "source": [
        "alternate plot: heatmap"
      ],
      "id": "5c30d3dd"
    },
    {
      "cell_type": "code",
      "metadata": {},
      "source": [
        "(ggplot(df2, aes(x=\"exports\", y=\"imports\"))+ \n",
        "geom_bin2d(bins=40)+ \n",
        "geom_abline(slope=1, intercept=0, linetype=\"dashed\")+ \n",
        "coord_equal()+ \n",
        "scale_x_continuous(\n",
        "    limits=(0, 200),\n",
        "    breaks = np.arange(0, 201, 20)\n",
        "    ) +\n",
        "scale_y_continuous(\n",
        "    limits=(0, 300),\n",
        "    breaks = np.arange(0, 301, 50)\n",
        "))"
      ],
      "id": "a0cd721f",
      "execution_count": null,
      "outputs": []
    },
    {
      "cell_type": "markdown",
      "metadata": {},
      "source": [
        "Like the previous task, using a binned heatmap helps with depicting the exports vs imports relationship. With this graph, we can even see things ike when a country runs surpluses or deficits, based on whether that relationship is shown above or below the line, respectively. But lie mentioned before, we can't actually see which country specifically is depicted on here so we just have the overal distribution. We also lose the third variable info, like energy usage and how that's related here.\n",
        "\n",
        "**Task 3**\n",
        "\n",
        "For Task 3's bubble chart, the:\n",
        "- x-axis: Internet Users\n",
        "- y-axis: GDP per capita\n",
        "- bubble size: Population size\n",
        "- Bubble color: grouped by 4 continent regions (asia, europe, americas, africa)\n",
        "- time bar/adjuster: year"
      ],
      "id": "0030a80e"
    },
    {
      "cell_type": "code",
      "metadata": {},
      "source": [
        "q3data = \"../data/q3data.csv\"\n",
        "df3 = pd.read_csv(q3data)\n",
        "print(df3.head())\n",
        "print(df3.columns)"
      ],
      "id": "6608690d",
      "execution_count": null,
      "outputs": []
    },
    {
      "cell_type": "code",
      "metadata": {},
      "source": [
        "(ggplot(df3, aes(x=\"internet_users\", y = \"gdp\")) + \n",
        "geom_point(aes(size=\"income\", color =  \"four_regions\"), alpha = 0.7) + \n",
        "scale_x_continuous(\n",
        "    limits=(0, 80),\n",
        "    breaks = np.arange(0, 81, 10)\n",
        ") +\n",
        "scale_y_log10(\n",
        "    breaks=[200, 500, 1000, 2000, 5000, 10000, 20000, 50000, 100000, 200000]\n",
        ") + \n",
        "scale_size_continuous(range=[0,20]) +\n",
        "scale_color_manual(\n",
        "    values = {\n",
        "        \"africa\": \"blue\",\n",
        "        \"americas\": \"green\",\n",
        "        \"asia\": \"red\",\n",
        "        \"europe\": \"yellow\",\n",
        "        \"nan\": \"black\"\n",
        "    }\n",
        ")\n",
        ")"
      ],
      "id": "fb34fe82",
      "execution_count": null,
      "outputs": []
    },
    {
      "cell_type": "markdown",
      "metadata": {},
      "source": [
        "alternate plot: "
      ],
      "id": "99303a2a"
    },
    {
      "cell_type": "code",
      "metadata": {},
      "source": [
        "(\n",
        "    ggplot(df3, aes(x=\"internet_users\", y=\"gdp\", color=\"four_regions\"))\n",
        "    + geom_smooth(method=\"loess\", se=False, span=0.8)\n",
        "    + scale_x_continuous(\n",
        "        limits=(0, 80), \n",
        "        breaks=np.arange(0, 81, 10))\n",
        "    + scale_y_log10(\n",
        "        breaks=[200, 500, 1000, 2000, 5000, 10000, 20000, 50000, 100000, 200000]\n",
        "    )\n",
        ")"
      ],
      "id": "c6e28983",
      "execution_count": null,
      "outputs": []
    },
    {
      "cell_type": "markdown",
      "metadata": {},
      "source": [
        "I used geom_bin2d to handle overplotting and reveal where countries cluster across internet use and GDP. This makes the distribution clear, especially with a log y-axis—but it drops the country-level size mapping to income. As a second view, geom_smooth also highlights the trend by region but also sacrifices individual detail and the income size cue."
      ],
      "id": "fd364e25"
    }
  ],
  "metadata": {
    "kernelspec": {
      "name": "python3",
      "language": "python",
      "display_name": "Python 3 (ipykernel)",
      "path": "C:\\Python312\\share\\jupyter\\kernels\\python3"
    }
  },
  "nbformat": 4,
  "nbformat_minor": 5
}