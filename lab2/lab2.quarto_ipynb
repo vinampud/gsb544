{
  "cells": [
    {
      "cell_type": "markdown",
      "metadata": {},
      "source": [
        "Repo: [https://github.com/vinampud/gsb544/tree/main/lab2](https://github.com/vinampud/gsb544/tree/main/lab2)\n",
        "\n",
        "**0. Import the data and declare your package dependencies.**"
      ],
      "id": "88a740bc"
    },
    {
      "cell_type": "code",
      "metadata": {},
      "source": [
        "%echo\n",
        "import os\n",
        "import pandas as pd\n",
        "import numpy as np\n",
        "from plotnine import *\n",
        "\n",
        "os.chdir(\"C:/Users/ivpri/gsb544/lab2\")\n",
        "avocado_data = pd.read_csv(\"../data/avocado-updated-2020.csv\")"
      ],
      "id": "e01fa5e1",
      "execution_count": null,
      "outputs": []
    },
    {
      "cell_type": "markdown",
      "metadata": {},
      "source": [
        "**1. Briefly describe the data set. What information does it contain?**\n",
        "\n",
        "This dataset contains information about national avocado sales specifically for Haas avocados, through channels like grocery, club, dollar, etc. The data contains date of observation, average price per unit/avocado, total number sold, three different PLU columns each pertaining to a different size, and how many avocados under that number were sold, and the number of bags sold per size, year, the type, and region of the observation.\n",
        "\n",
        "\n",
        "**2. Clean the data in any way you see fit.**"
      ],
      "id": "bb73dea6"
    },
    {
      "cell_type": "code",
      "metadata": {},
      "source": [
        "avocado_clean = avocado_data.copy()\n",
        "\n",
        "major5_map = {\n",
        "    # Northeast\n",
        "    \"Albany\": \"Northeast\",\n",
        "    \"Baltimore/Washington\": \"Northeast\",   # treating Mid-Atlantic as Northeast\n",
        "    \"Boston\": \"Northeast\",\n",
        "    \"Buffalo/Rochester\": \"Northeast\",\n",
        "    \"Harrisburg/Scranton\": \"Northeast\",\n",
        "    \"Hartford/Springfield\": \"Northeast\",\n",
        "    \"New York\": \"Northeast\",\n",
        "    \"Northeast\": \"Northeast\",\n",
        "    \"Northern New England\": \"Northeast\",\n",
        "    \"Philadelphia\": \"Northeast\",\n",
        "    \"Pittsburgh\": \"Northeast\",\n",
        "    \"Syracuse\": \"Northeast\",\n",
        "\n",
        "    # Southeast\n",
        "    \"Atlanta\": \"Southeast\",\n",
        "    \"Charlotte\": \"Southeast\",\n",
        "    \"Jacksonville\": \"Southeast\",\n",
        "    \"Louisville\": \"Southeast\",\n",
        "    \"Miami/Ft. Lauderdale\": \"Southeast\",\n",
        "    \"Midsouth\": \"Southeast\",               # TN/AR/MS/KY cluster → Southeast\n",
        "    \"Nashville\": \"Southeast\",\n",
        "    \"New Orleans/Mobile\": \"Southeast\",\n",
        "    \"Orlando\": \"Southeast\",\n",
        "    \"Raleigh/Greensboro\": \"Southeast\",\n",
        "    \"Richmond/Norfolk\": \"Southeast\",\n",
        "    \"Roanoke\": \"Southeast\",\n",
        "    \"South Carolina\": \"Southeast\",\n",
        "    \"Southeast\": \"Southeast\",\n",
        "    \"Tampa\": \"Southeast\",\n",
        "\n",
        "    # Midwest\n",
        "    \"Chicago\": \"Midwest\",\n",
        "    \"Cincinnati/Dayton\": \"Midwest\",\n",
        "    \"Columbus\": \"Midwest\",\n",
        "    \"Detroit\": \"Midwest\",\n",
        "    \"Grand Rapids\": \"Midwest\",\n",
        "    \"Great Lakes\": \"Midwest\",\n",
        "    \"Indianapolis\": \"Midwest\",\n",
        "    \"Plains\": \"Midwest\",\n",
        "    \"St. Louis\": \"Midwest\",\n",
        "\n",
        "    # Southwest\n",
        "    \"Dallas/Ft. Worth\": \"Southwest\",\n",
        "    \"Houston\": \"Southwest\",\n",
        "    \"Phoenix/Tucson\": \"Southwest\",\n",
        "    \"South Central\": \"Southwest\",          # TX/OK/LA/AR cluster → Southwest\n",
        "    \"West Tex/New Mexico\": \"Southwest\",\n",
        "\n",
        "    # West\n",
        "    \"Boise\": \"West\",\n",
        "    \"California\": \"West\",\n",
        "    \"Denver\": \"West\",\n",
        "    \"Las Vegas\": \"West\",\n",
        "    \"Los Angeles\": \"West\",\n",
        "    \"Portland\": \"West\",\n",
        "    \"Sacramento\": \"West\",\n",
        "    \"San Diego\": \"West\",\n",
        "    \"San Francisco\": \"West\",\n",
        "    \"Seattle\": \"West\",\n",
        "    \"Spokane\": \"West\",\n",
        "    \"West\": \"West\",\n",
        "\n",
        "    # Special (not one of the five)\n",
        "    \"Total U.S.\": \"National\",              # see note below\n",
        "}\n",
        "\n",
        "avocado_clean[\"major_region5\"] = avocado_data[\"geography\"].map(major5_map)"
      ],
      "id": "16770531",
      "execution_count": null,
      "outputs": []
    },
    {
      "cell_type": "code",
      "metadata": {},
      "source": [
        "avocado_clean.isnull().sum()\n",
        "avocado_clean.rename(columns={\"4046\": \"small-hass\", \"4225\": \"large-hass\", \"4770\": \"xlarge-hass\"}, inplace=True)"
      ],
      "id": "534c0807",
      "execution_count": null,
      "outputs": []
    },
    {
      "cell_type": "markdown",
      "metadata": {},
      "source": [
        "I cleaned the dataset by renaming the PLU columns to their respective sizes, as well as adding an extra column for the geography to group them into their geographical region.\n",
        "\n",
        "\n",
        "**3. Which major geographical region sold the most total organic, small Hass avocados in 2017?**"
      ],
      "id": "c95bdcf8"
    },
    {
      "cell_type": "code",
      "metadata": {},
      "source": [
        "# organic + 2017\n",
        "# small-hass columns, group by region\n",
        "organic_small = avocado_clean[(avocado_clean[\"type\"] == \"organic\") & (avocado_clean[\"year\"]==2017)]\n",
        "\n",
        "organic_small.groupby(\"major_region5\")[\"small-hass\"].sum().sort_values(ascending=False)"
      ],
      "id": "e91ad064",
      "execution_count": null,
      "outputs": []
    },
    {
      "cell_type": "markdown",
      "metadata": {},
      "source": [
        "Aside from the observations recorded as \"National\", which reported 6882024.42 total, the West had the highest number of sales for organic small hass avocados in 2017, with 5531066 avocados.\n",
        "\n",
        "\n",
        "**4. Split the date variable into month, day, and year variables. In which month is the highest average volume of avocado sales?**"
      ],
      "id": "c9f91eec"
    },
    {
      "cell_type": "code",
      "metadata": {},
      "source": [
        "avocado_clean[\"date\"] = pd.to_datetime(avocado_clean[\"date\"])\n",
        "\n",
        "avocado_clean[\"month\"] = avocado_clean[\"date\"].dt.month\n",
        "avocado_clean[\"day\"] = avocado_clean[\"date\"].dt.day\n",
        "\n",
        "avocado_clean.groupby(\"month\")[\"total_volume\"].mean().sort_values(ascending=False)"
      ],
      "id": "322888f5",
      "execution_count": null,
      "outputs": []
    },
    {
      "cell_type": "markdown",
      "metadata": {},
      "source": [
        "May had the highest average volume of sales.\n",
        "\n",
        "\n",
        "**5. Which metro area geographical regions sold the most total avocados? Plot side-by-side box-plots of the total volume for only the five metro geographical regions with the highest averages for the total_volume variable.**"
      ],
      "id": "a34935a4"
    },
    {
      "cell_type": "code",
      "metadata": {},
      "source": [
        "def classify_geo(g):\n",
        "    metros = [\n",
        "        \"Albany\",\"Atlanta\",\"Baltimore/Washington\",\"Boise\",\"Boston\",\"Buffalo/Rochester\",\n",
        "        \"Charlotte\",\"Chicago\",\"Cincinnati/Dayton\",\"Columbus\",\"Dallas/Ft. Worth\",\"Denver\",\n",
        "        \"Detroit\",\"Grand Rapids\",\"Harrisburg/Scranton\",\"Hartford/Springfield\",\"Houston\",\n",
        "        \"Indianapolis\",\"Jacksonville\",\"Las Vegas\",\"Los Angeles\",\"Louisville\",\"Miami/Ft. Lauderdale\",\n",
        "        \"Nashville\",\"New Orleans/Mobile\",\"New York\",\"Orlando\",\"Philadelphia\",\"Phoenix/Tucson\",\n",
        "        \"Pittsburgh\",\"Portland\",\"Raleigh/Greensboro\",\"Richmond/Norfolk\",\"Roanoke\",\"Sacramento\",\n",
        "        \"San Diego\",\"San Francisco\",\"Seattle\",\"Spokane\",\"St. Louis\",\"Syracuse\",\"Tampa\"\n",
        "    ]\n",
        "    states = [\"California\",\"South Carolina\",\"West Tex/New Mexico\"]\n",
        "    regions = [\"Great Lakes\",\"Midsouth\",\"Northeast\",\"Northern New England\",\n",
        "               \"Plains\",\"South Central\",\"Southeast\",\"West\"]\n",
        "    if g == \"Total U.S.\":\n",
        "        return \"national\"\n",
        "    elif g in metros:\n",
        "        return \"metro\"\n",
        "    elif g in states:\n",
        "        return \"state\"\n",
        "    elif g in regions:\n",
        "        return \"regional\"\n",
        "    else:\n",
        "        return \"other\"\n",
        "\n",
        "avocado_clean[\"geo_type\"] = avocado_clean[\"geography\"].apply(classify_geo)"
      ],
      "id": "a2363150",
      "execution_count": null,
      "outputs": []
    },
    {
      "cell_type": "code",
      "metadata": {},
      "source": [
        "# figure out the 5 highest metros\n",
        "metros = avocado_clean[avocado_clean[\"geo_type\"] == \"metro\"][[\"total_volume\", \"geography\"]]\n",
        "\n",
        "#store what the top 5 were\n",
        "top5 = metros.groupby(\"geography\")[\"total_volume\"].mean().nlargest(5).index.tolist()\n",
        "\n",
        "top5_df = metros[metros[\"geography\"].isin(top5)]\n",
        "\n",
        "(ggplot(top5_df, aes(x=\"geography\", y=\"total_volume\")) \n",
        "+ geom_boxplot() \n",
        "+ scale_y_log10()\n",
        "+ labs(\n",
        "    title=\"Top 5 Highest selling Metro regions for Hass Avocados\",\n",
        "    x=\"Metro Region\",\n",
        "    y=\"Total # of Avocados sold\"\n",
        "))\n",
        "# then for those, boxplots"
      ],
      "id": "b53c69da",
      "execution_count": null,
      "outputs": []
    },
    {
      "cell_type": "markdown",
      "metadata": {},
      "source": [
        "**6. From your cleaned data set, create a data set with only these California regions and answer the following questions about these California regions only.**"
      ],
      "id": "10462a65"
    },
    {
      "cell_type": "code",
      "metadata": {},
      "source": [
        "california = avocado_clean[avocado_clean[\"geography\"].isin([\"Los Angeles\", \"San Diego\", \"Sacramento\", \"San Francisco\"])]\n",
        "california"
      ],
      "id": "19b8fdd1",
      "execution_count": null,
      "outputs": []
    },
    {
      "cell_type": "markdown",
      "metadata": {},
      "source": [
        "**7. In which California regions is the price of organic versus conventional avocados most different? Support your answer with a few summary statistics AND a visualization.**"
      ],
      "id": "2a57c39c"
    },
    {
      "cell_type": "code",
      "metadata": {},
      "source": [
        "# each row is unquely identified by date and geography, with one column for conventional price and organic price\n",
        "ca_with_dates = california.pivot(index=[\"date\", \"geography\"], columns=\"type\", values = \"average_price\")\n",
        "ca_with_dates.reset_index(inplace=True)\n",
        "ca_with_dates[\"price_diff\"] = ca_with_dates[\"organic\"] - ca_with_dates[\"conventional\"]\n",
        "\n",
        "# for each region, report the price diffs\n",
        "summary = ca_with_dates.groupby(\"geography\")[\"price_diff\"].agg([\"mean\", \"std\", \"min\", \"max\"])\n",
        "summary.reset_index(inplace=True)"
      ],
      "id": "9197b6eb",
      "execution_count": null,
      "outputs": []
    },
    {
      "cell_type": "code",
      "metadata": {},
      "source": [
        "summary"
      ],
      "id": "f2b2ce1f",
      "execution_count": null,
      "outputs": []
    },
    {
      "cell_type": "code",
      "metadata": {},
      "source": [
        "(ggplot(ca_with_dates, aes(x=\"geography\", y = \"price_diff\")) + geom_boxplot() + scale_y_continuous()\n",
        "+ labs(\n",
        "    title=\"Summary of California regions' price differences \\nbetween organic and conventional avocados\",\n",
        "    x='region',\n",
        "    y=\"difference in average price\"\n",
        "))"
      ],
      "id": "39c5c4f1",
      "execution_count": null,
      "outputs": []
    },
    {
      "cell_type": "markdown",
      "metadata": {},
      "source": [
        "**8. The following plot shows, for all four California regions, the proportion of the average Hass avocado sales that are small, large, or extra large; conventional vs. organic. Recreate the plot; you do not have to replicate the exact finishing touches - e.g., color, theme - but your plot should resemble the content of this plot.**"
      ],
      "id": "b36e5434"
    },
    {
      "cell_type": "code",
      "metadata": {},
      "source": [
        "# grouped by ca region, for each region need to average the total volume\n",
        "california[\"total_sizes\"] = california[\"small-hass\"] + california[\"large-hass\"] + california[\"xlarge-hass\"]\n",
        "\n",
        "sizes = california.groupby([\"geography\", \"type\"])[[\"small-hass\", \"large-hass\", \"xlarge-hass\", \"total_sizes\"]].mean()\n",
        "sizes.reset_index(inplace=True)\n",
        "\n",
        "sizes[\"small\"] = sizes[\"small-hass\"] / sizes[\"total_sizes\"]\n",
        "sizes[\"large\"] = sizes[\"large-hass\"] / sizes[\"total_sizes\"]\n",
        "sizes[\"xlarge\"] = sizes[\"xlarge-hass\"] / sizes[\"total_sizes\"]\n",
        "\n",
        "\n",
        "\n",
        "# melt the size columsn into their own column, value is the proportion\n",
        "prop_long = sizes.melt(\n",
        "    id_vars=[\"geography\",\"type\"],\n",
        "    value_vars=[\"small\",\"large\",\"xlarge\"],\n",
        "    var_name=\"size\",\n",
        "    value_name=\"prop\"\n",
        ")\n",
        "\n",
        "order = [\"xlarge\",\"large\",\"small\"]\n",
        "prop_long[\"size\"] = pd.Categorical(prop_long[\"size\"], categories=order, ordered=True)\n",
        "\n",
        "(ggplot(prop_long, aes(x=\"geography\", y=\"prop\", fill=\"size\")) + geom_col() \n",
        "+ scale_fill_discrete(limits=order)\n",
        "+ facet_wrap(\"~ type\") \n",
        "+ labs(\n",
        "    title=\"Proportion of Average Hass Avocado Sales by Size\",\n",
        "    x=\"Region of California\",\n",
        "    y=\"Proportion\",\n",
        "    fill=\"Size\"\n",
        ")\n",
        "+ theme(axis_text_x=element_text(rotation=45, ha='right')))"
      ],
      "id": "bb2bfb0e",
      "execution_count": null,
      "outputs": []
    },
    {
      "cell_type": "markdown",
      "metadata": {},
      "source": [
        "**Comparing with housing prices in California**"
      ],
      "id": "81e11408"
    },
    {
      "cell_type": "code",
      "metadata": {},
      "source": [
        "housing = pd.DataFrame({\n",
        "    \"geography\": [\"Los Angeles\", \"San Diego\", \"Sacramento\", \"San Francisco\"],\n",
        "    \"avg_home_price\": [650000, 600000, 400000, 1200000]\n",
        "})\n",
        "\n",
        "print(housing)\n",
        "\n",
        "avo_and_housing = pd.merge(left=california, right=housing, on=[\"geography\"])\n",
        "\n",
        "(ggplot(avo_and_housing, aes(x=\"avg_home_price\", y=\"average_price\", color=\"geography\"))\n",
        "    + geom_point(alpha=0.6)\n",
        "    + geom_smooth(method=\"lm\", se=False, color=\"black\")\n",
        "    + theme(axis_text_x=element_text(rotation=45, hjust=1))\n",
        "    + labs(\n",
        "        title=\"Avocado Prices vs. Average Home Prices in California Regions\",\n",
        "        x=\"Average Home Price ($)\",\n",
        "        y=\"Average Avocado Price ($ per avocado)\",\n",
        "        color=\"Region\"\n",
        "    )\n",
        ")"
      ],
      "id": "37b0c6da",
      "execution_count": null,
      "outputs": []
    },
    {
      "cell_type": "markdown",
      "metadata": {},
      "source": [
        "Each vertical group represents one of the four California regions.\n",
        "The trend line shows a slight positive relationship between average home prices and avocado prices --> higher-priced housing markets also tend to have higher avocado prices.\n",
        "This suggests that the avocado toast effect is more a reflection of general cost-of-living differences rather than causation."
      ],
      "id": "b8612104"
    }
  ],
  "metadata": {
    "kernelspec": {
      "name": "python3",
      "language": "python",
      "display_name": "Python 3 (ipykernel)",
      "path": "C:\\Python312\\share\\jupyter\\kernels\\python3"
    }
  },
  "nbformat": 4,
  "nbformat_minor": 5
}