{
  "cells": [
    {
      "cell_type": "markdown",
      "metadata": {},
      "source": [
        "LAB 3\n",
        "Repo: [https://github.com/vinampud/gsb544/tree/main/lab3](https://github.com/vinampud/gsb544/tree/main/lab3)"
      ],
      "id": "bf60f948"
    },
    {
      "cell_type": "code",
      "metadata": {},
      "source": [
        "%echo\n",
        "import pandas as pd\n",
        "import numpy as np"
      ],
      "id": "7a3daa94",
      "execution_count": null,
      "outputs": []
    },
    {
      "cell_type": "code",
      "metadata": {},
      "source": [
        "xmas = pd.read_csv(\"https://www.dropbox.com/scl/fi/qxaslqqp5p08i1650rpc4/xmas.csv?rlkey=erdxi7jbh7pqf9fh4lv4cayp5&dl=1\")"
      ],
      "id": "a9d1abd5",
      "execution_count": null,
      "outputs": []
    },
    {
      "cell_type": "markdown",
      "metadata": {},
      "source": [
        "**Function 1: pluralize gift**"
      ],
      "id": "b7d78c92"
    },
    {
      "cell_type": "code",
      "metadata": {},
      "source": [
        "def pluralize_gift(gift):\n",
        "    \n",
        "    \"\"\"\n",
        "    Returns plural of a noun\n",
        "    \n",
        "    Parameters\n",
        "    ----------\n",
        "    gift: str\n",
        "        A noun\n",
        "        \n",
        "    Return\n",
        "    ------\n",
        "    str\n",
        "        Plural version\n",
        "    \"\"\"\n",
        "\n",
        "    if isinstance(gift, str):\n",
        "        # print(\"single found!\")\n",
        "        scalar = True\n",
        "        gifts = np.array([gift], dtype=str)\n",
        "    else:\n",
        "        scalar = False\n",
        "        gifts = np.asarray(gift, dtype=str)\n",
        "\n",
        "    gifts = gifts.astype('U64')   # plenty of room so no truncation\n",
        " \n",
        "    # np.char wraps the string function to make it vectorizable\n",
        "    # create conditions\n",
        "    # print(\"gifts list: \", gifts)\n",
        "    has_oo = np.char.find(gifts, \"oo\") != -1\n",
        "    has_y = np.char.endswith(gifts, \"y\")\n",
        "\n",
        "    if np.any(has_oo):\n",
        "        # print(\"oo found\")\n",
        "        gifts[has_oo] = np.char.replace(gifts[has_oo], \"oo\", \"ee\")\n",
        "    if np.any(has_y):\n",
        "        # print(\"y found!: \", gifts[has_y])\n",
        "        gifts[has_y] = np.array(\n",
        "            [word[:-1] + \"ies\" for word in gifts[has_y]]\n",
        "        )\n",
        "    if np.any(~has_oo & ~has_y):\n",
        "        # print(\"none found\")\n",
        "        gifts[~has_oo & ~has_y] = np.char.add(gifts[~has_oo & ~has_y], \"s\")\n",
        "        \n",
        "\n",
        "    if scalar:\n",
        "        # print(\"single: \", gifts)\n",
        "        return gifts[0] \n",
        "    else: \n",
        "        return gifts"
      ],
      "id": "c31dc660",
      "execution_count": null,
      "outputs": []
    },
    {
      "cell_type": "code",
      "metadata": {},
      "source": [
        "print(pluralize_gift(\"lady\"))\n",
        "print(pluralize_gift(\"goose\"))\n",
        "print(pluralize_gift(xmas['Gift.Item']))"
      ],
      "id": "fdd51ab2",
      "execution_count": null,
      "outputs": []
    },
    {
      "cell_type": "markdown",
      "metadata": {},
      "source": [
        "**Function 2: make_phrase**"
      ],
      "id": "4d7dd8c3"
    },
    {
      "cell_type": "code",
      "metadata": {},
      "source": [
        "# mapping to xmas columns:\n",
        "# num = day, num_word = day.in.word, item = gift.item, verb = verb, adjective = adjective, location = location\n",
        "day_in_words = {1: \"a\", 2: \"two\", 3: \"three\", 4: \"four\", 5: \"five\", 6: \"six\", 7: \"seven\", 8: \"eight\", 9: \"nine\", 10: \"ten\", 11: \"eleven\", 12: \"twelve\"}\n",
        "\n",
        "def _blank(x):\n",
        "    # works for Series and scalars\n",
        "    try:\n",
        "        return x.fillna(\"\")\n",
        "    except AttributeError:\n",
        "        return \"\" if pd.isna(x) else x\n",
        "\n",
        "def make_phrase(num, num_word, item, verb, adjective, location):\n",
        "    \"\"\"\n",
        "    <documentation here>\n",
        "    \"\"\"\n",
        "    \n",
        "    ## Step 1: Replace NAs with blank strings\n",
        "    verb      = _blank(verb)\n",
        "    adjective = _blank(adjective)\n",
        "    location  = _blank(location)\n",
        "\n",
        "    \n",
        "    ## Step 2: If the day number is larger than 1, the gift items need pluralized!\n",
        "    ### Hint: call the function you created above!\n",
        "    if num > 1:\n",
        "        # print(\"plural\")\n",
        "        item = pluralize_gift(item)\n",
        "        # print(\"new item: \", item)\n",
        "    \n",
        "    ## Step 3: Figure out if a gift item starts with a vowel\n",
        "    vowel = item[:1].lower() in \"aeiou\"\n",
        "    \n",
        "    ## Step 4: For the first day, if the gift item starts with a vowel, replace the day with \"an\" and if the gift item does not start with a vowel, replace the day with \"a\" (e.g. a partridge in a pear tree). If it is not the first day, use just the number word (e.g. ten lords a leap)\n",
        "    if num == 1:\n",
        "        if vowel:\n",
        "            num_word = \"an\"\n",
        "        else:\n",
        "            num_word = \"a\"\n",
        "    \n",
        "    ## Step 5: Put all of the pieces together into one string and return!\n",
        "    parts = [num_word, adjective, item, verb, location]\n",
        "    return \" \".join(part for part in parts if part)"
      ],
      "id": "298768ad",
      "execution_count": null,
      "outputs": []
    },
    {
      "cell_type": "code",
      "metadata": {},
      "source": [
        "one = make_phrase(num = 1, num_word = \"one\", \n",
        "            item = \"partridge\", \n",
        "            verb = \"\", \n",
        "            adjective = \"\", \n",
        "            location = \"in a pear tree\")\n",
        "ten = make_phrase(num = 10, num_word = \"ten\", \n",
        "            item = \"lord\", \n",
        "            verb = \"a-leaping\", \n",
        "            adjective = \"\", \n",
        "            location = \"\")\n",
        "print(one)\n",
        "print(ten)\n",
        "# xmas[xmas[\"Day\"] == 1][\"Verb\"].isna()"
      ],
      "id": "c13e4634",
      "execution_count": null,
      "outputs": []
    },
    {
      "cell_type": "code",
      "metadata": {},
      "source": [
        "xmas[\"Full.Phrase\"] = xmas.apply(lambda x: make_phrase(x[\"Day\"], day_in_words[x[\"Day\"]], x[\"Gift.Item\"], x[\"Verb\"], x[\"Adjective\"], x[\"Location\"]), axis=1)\n",
        "xmas.head()"
      ],
      "id": "62d22114",
      "execution_count": null,
      "outputs": []
    },
    {
      "cell_type": "markdown",
      "metadata": {},
      "source": [
        "**Function 3: sing_day()**"
      ],
      "id": "82bb8d35"
    },
    {
      "cell_type": "code",
      "metadata": {},
      "source": [
        "def sing_day(dataset, num, phrase_col):\n",
        "    \"\"\"\n",
        "    <documentation>\n",
        "    \"\"\"\n",
        "    \n",
        "    # Step 1: Setup the intro line\n",
        "    num_word = dataset.loc[dataset[\"Day\"] == num, \"Day.in.Words\"].iloc[0]  # convert \"1\" to \"first\" etc.\n",
        "    intro = \"On the \" + num_word + \" day of Christmas, my true love sent to me:\"\n",
        "    \n",
        "    # Step 2: Sing the gift phrases\n",
        "    # Hint: What order are they gifts sung in each day?\n",
        "    gifts = \"\"\n",
        "    for i in range(num - 1, 0, -1):\n",
        "        # print(\"i: \", i)\n",
        "        if i==1:\n",
        "            gifts = gifts + dataset[phrase_col][i] + \", and\\n\"\n",
        "        else:\n",
        "            gifts = gifts + dataset[phrase_col][i] + \",\\n\"\n",
        "    gifts = gifts + dataset[phrase_col][0] + \".\"\n",
        "\n",
        "    # Step 3: Put it all together and return\n",
        "    return intro + \"\\n\" + gifts"
      ],
      "id": "38f649ec",
      "execution_count": null,
      "outputs": []
    },
    {
      "cell_type": "code",
      "metadata": {},
      "source": [
        "one = sing_day(xmas, 1, \"Full.Phrase\")\n",
        "third = sing_day(xmas, 3, \"Full.Phrase\")\n",
        "twelfth = sing_day(xmas, 12, \"Full.Phrase\")"
      ],
      "id": "9cf896a7",
      "execution_count": null,
      "outputs": []
    },
    {
      "cell_type": "markdown",
      "metadata": {},
      "source": [
        "**Printing full song**"
      ],
      "id": "5c8e99e4"
    },
    {
      "cell_type": "code",
      "metadata": {},
      "source": [
        "days = range(1, 13)\n",
        "full_song = list(map(lambda d: sing_day(xmas, d, \"Full.Phrase\"), days))\n",
        "print(\"\\n\\n\".join(full_song))"
      ],
      "id": "072455b7",
      "execution_count": null,
      "outputs": []
    }
  ],
  "metadata": {
    "kernelspec": {
      "name": "python3",
      "language": "python",
      "display_name": "Python 3 (ipykernel)",
      "path": "C:\\Python312\\share\\jupyter\\kernels\\python3"
    }
  },
  "nbformat": 4,
  "nbformat_minor": 5
}