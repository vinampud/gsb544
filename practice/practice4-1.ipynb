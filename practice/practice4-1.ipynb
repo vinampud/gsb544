{
 "cells": [
  {
   "cell_type": "markdown",
   "metadata": {
    "id": "qrJX4FDa8oA8"
   },
   "source": [
    "# XML, HTML, and Web Scraping\n",
    "\n",
    "JSON and XML are two different ways to represent hierarchical data. Which one is better? There are lots of articles online which discuss similarities and differences between JSON and XML and their advantages and disadvantages. Both formats are still in current usage, so it is good to be familiar with both. However, JSON is more common, so we'll focus on working with JSON representations of hierarchical data.\n",
    "\n",
    "The reading covered an example of using Beautiful Soup to parse XML. Rather than doing another example XML now, we'll skip straight to scraping HTML from a webpage. Both HTML and XML can be parsed in a similar way with Beautiful Soup."
   ]
  },
  {
   "cell_type": "code",
   "execution_count": 1,
   "metadata": {},
   "outputs": [
    {
     "name": "stdout",
     "output_type": "stream",
     "text": [
      "Note: you may need to restart the kernel to use updated packages.\n"
     ]
    },
    {
     "name": "stderr",
     "output_type": "stream",
     "text": [
      "WARNING: Ignoring invalid distribution ~ (C:\\Python312\\Lib\\site-packages)\n",
      "WARNING: Ignoring invalid distribution ~ip (C:\\Python312\\Lib\\site-packages)\n",
      "WARNING: Ignoring invalid distribution ~~p (C:\\Python312\\Lib\\site-packages)\n",
      "WARNING: Ignoring invalid distribution ~ (C:\\Python312\\Lib\\site-packages)\n",
      "WARNING: Ignoring invalid distribution ~ip (C:\\Python312\\Lib\\site-packages)\n",
      "WARNING: Ignoring invalid distribution ~~p (C:\\Python312\\Lib\\site-packages)\n",
      "WARNING: Ignoring invalid distribution ~ (C:\\Python312\\Lib\\site-packages)\n",
      "WARNING: Ignoring invalid distribution ~ip (C:\\Python312\\Lib\\site-packages)\n",
      "WARNING: Ignoring invalid distribution ~~p (C:\\Python312\\Lib\\site-packages)\n",
      "\n",
      "[notice] A new release of pip is available: 25.0 -> 25.2\n",
      "[notice] To update, run: pythonw.exe -m pip install --upgrade pip\n"
     ]
    },
    {
     "name": "stdout",
     "output_type": "stream",
     "text": [
      "Requirement already satisfied: lxml in c:\\python312\\lib\\site-packages (6.0.2)\n"
     ]
    }
   ],
   "source": [
    "%pip install lxml"
   ]
  },
  {
   "cell_type": "code",
   "execution_count": 2,
   "metadata": {
    "id": "XZhT8jhbuZSg"
   },
   "outputs": [],
   "source": [
    "import pandas as pd\n",
    "import requests\n",
    "from bs4 import BeautifulSoup"
   ]
  },
  {
   "cell_type": "markdown",
   "metadata": {
    "id": "ApqnMQ4iV4qu"
   },
   "source": [
    "## Scraping an HTML table with Beautiful Soup"
   ]
  },
  {
   "cell_type": "markdown",
   "metadata": {
    "id": "9SD7XOs_So3G"
   },
   "source": [
    "Open the URL https://en.wikipedia.org/wiki/List_of_United_States_cities_by_population and scroll down until you see a table of the cities in the U.S. with population over 100,000 (as of Jul 1, 2022). We'll use Beautiful Soup to scrape information from this table."
   ]
  },
  {
   "cell_type": "markdown",
   "metadata": {
    "id": "HRmnzgaQS_T0"
   },
   "source": [
    "Read in the HTML from the URL using the `requests` library."
   ]
  },
  {
   "cell_type": "code",
   "execution_count": 3,
   "metadata": {
    "id": "xvYzbSospYVu"
   },
   "outputs": [],
   "source": [
    "URL = \"https://en.wikipedia.org/wiki/List_of_United_States_cities_by_population\"\n",
    "HEADERS = {\"User-Agent\": \"Mozilla/5.0 (Windows NT 10.0; Win64; x64)\"}\n",
    "\n",
    "response = requests.get(URL, headers=HEADERS)"
   ]
  },
  {
   "cell_type": "markdown",
   "metadata": {
    "id": "YJ1Swg6B82_J"
   },
   "source": [
    "Use Beautiful Soup to parse this string into a tree called `soup`"
   ]
  },
  {
   "cell_type": "code",
   "execution_count": 4,
   "metadata": {
    "id": "e0jpmfwtpaEB"
   },
   "outputs": [],
   "source": [
    "# YOUR CODE HERE\n",
    "soup = BeautifulSoup(response.content, \"html.parser\")"
   ]
  },
  {
   "cell_type": "markdown",
   "metadata": {
    "id": "lFxGW_KIDjnx"
   },
   "source": [
    "To find an HTML tag corresponding to a specific element on a webpage, right-click on it and choose \"Inspect element\". Go to the cities table Wikipedia page and do this now.\n",
    "\n",
    "You should find that the cities table on the Wikipedia page corresponds to an element that looks like\n",
    "\n",
    "```\n",
    "<table class=\"______\" style=\"_______\">\n",
    "```"
   ]
  },
  {
   "cell_type": "markdown",
   "metadata": {
    "id": "DR50aTBZEwov"
   },
   "source": [
    "There are many `<table>` tags on the page.  One option you have is to find them all, and then manually figure out which one in this list is the table you care about."
   ]
  },
  {
   "cell_type": "code",
   "execution_count": 5,
   "metadata": {
    "colab": {
     "base_uri": "https://localhost:8080/"
    },
    "id": "4691d-EGEwc0",
    "outputId": "5fb27f72-386f-4e75-d1b8-6f811c6acfde"
   },
   "outputs": [
    {
     "data": {
      "text/plain": [
       "10"
      ]
     },
     "execution_count": 45,
     "metadata": {},
     "output_type": "execute_result"
    }
   ],
   "source": [
    "all_tables = len(soup.find_all(\"table\"))\n",
    "all_tables"
   ]
  },
  {
   "cell_type": "markdown",
   "metadata": {
    "id": "H1xslM2yE1GI"
   },
   "source": [
    "\n",
    "\n",
    "The other option is to try to use attributes like `class=` and/or `style=` to narrow down the list."
   ]
  },
  {
   "cell_type": "code",
   "execution_count": 6,
   "metadata": {
    "colab": {
     "base_uri": "https://localhost:8080/"
    },
    "id": "E0Q0sa46DvTZ",
    "outputId": "db58cb54-3a56-42ec-86bb-37e8a6ca6be5"
   },
   "outputs": [
    {
     "data": {
      "text/plain": [
       "0"
      ]
     },
     "execution_count": 46,
     "metadata": {},
     "output_type": "execute_result"
    }
   ],
   "source": [
    "# this didnt work\n",
    "len(soup.find_all(\"table\",\n",
    "                  attrs={\n",
    "                      \"class\":\"sortable wikitable sticky-header-multi static-row-numbers sort-under col1left col2center jquery-tablesorter\",\n",
    "                      \"style\":\"text-align:right\"}\n",
    "                  ))"
   ]
  },
  {
   "cell_type": "markdown",
   "metadata": {
    "id": "ndnRSJJiFFby"
   },
   "source": [
    "At this point, you can manually inspect the tables on the webpage to find that the one we want is the first one (see `[0]` below). We'll store this as `table`."
   ]
  },
  {
   "cell_type": "code",
   "execution_count": 7,
   "metadata": {
    "colab": {
     "base_uri": "https://localhost:8080/"
    },
    "id": "sRBSqVGlYhuT",
    "outputId": "fedc5143-ec92-4897-a00a-c6a684425058"
   },
   "outputs": [],
   "source": [
    "table = soup.find_all(\"table\")[2]"
   ]
  },
  {
   "cell_type": "markdown",
   "metadata": {
    "id": "j4AWo3QoYqNY"
   },
   "source": [
    "**Now you will write code to scrape the information in `table` to create a Pandas data frame with one row for each city and columns for: city, state, population (2022 estimate), and 2020 land area (sq mi).** Refer to the Notes/suggestions below as you write your code. A few Hints are provided further down, but try coding first before looking at the hints."
   ]
  },
  {
   "cell_type": "markdown",
   "metadata": {
    "id": "KfRx2_XlDUqD"
   },
   "source": [
    "Notes/suggestions:\n",
    "\n",
    "- Use as a guide the code from the reading that produced the data frame of Statistics faculty\n",
    "- Inspect the page source as you write your code\n",
    "- You will need to write a loop to get the information for all cities, but you might want to try just scraping the info for New York first\n",
    "- You will need to pull the text from the tag. If `.text` returns text with \"\\n\" at the end, try `.get_text(strip = True)` instead of `.text`\n",
    "- Don't forget to convert to a Pandas Data Frame; it should have 333 rows and 4 columns\n",
    "- The goal of this exercise is just to create the Data Frame. If you were going to use it --- e.g., what is the population density for all cities in CA? --- then you would need to clean the data first (to clean strings and convert to quantitative). (You can use Beautiful Soup to do some of the cleaning for you, but that goes beyond our scope.)"
   ]
  },
  {
   "cell_type": "code",
   "execution_count": 8,
   "metadata": {
    "id": "msKiUcOZpSX7"
   },
   "outputs": [],
   "source": [
    "# YOUR CODE HERE. ADD AS MANY CELLS AS NEEDED"
   ]
  },
  {
   "cell_type": "code",
   "execution_count": 9,
   "metadata": {
    "colab": {
     "base_uri": "https://localhost:8080/"
    },
    "id": "1M23w-PPtUyw",
    "outputId": "9d9ae4ab-4238-4249-bf64-3e892cd15251"
   },
   "outputs": [],
   "source": [
    "rows = []\n",
    "for row in table.find_all(\"tr\")[2:]:\n",
    "  cells = row.find_all(\"td\")\n",
    "  cells\n",
    "\n",
    "  city = cells[0].text.strip()\n",
    "  city\n",
    "\n",
    "  state = cells[1].text.strip()\n",
    "  state\n",
    "\n",
    "  pop = cells[2].text.strip()\n",
    "  pop\n",
    "\n",
    "  area = cells[5].text.strip()\n",
    "  area\n",
    "\n",
    "  rows.append({\"city\": city, \"state\": state, \"population (2024 estimate)\": pop, \"2020 land area (sq mi)\": area})"
   ]
  },
  {
   "cell_type": "code",
   "execution_count": 10,
   "metadata": {
    "colab": {
     "base_uri": "https://localhost:8080/",
     "height": 423
    },
    "id": "AJFg7pfCba-7",
    "outputId": "f5579240-598b-47c5-e68f-527a41f04e42"
   },
   "outputs": [
    {
     "data": {
      "text/html": [
       "<div>\n",
       "<style scoped>\n",
       "    .dataframe tbody tr th:only-of-type {\n",
       "        vertical-align: middle;\n",
       "    }\n",
       "\n",
       "    .dataframe tbody tr th {\n",
       "        vertical-align: top;\n",
       "    }\n",
       "\n",
       "    .dataframe thead th {\n",
       "        text-align: right;\n",
       "    }\n",
       "</style>\n",
       "<table border=\"1\" class=\"dataframe\">\n",
       "  <thead>\n",
       "    <tr style=\"text-align: right;\">\n",
       "      <th></th>\n",
       "      <th>city</th>\n",
       "      <th>state</th>\n",
       "      <th>population (2024 estimate)</th>\n",
       "      <th>2020 land area (sq mi)</th>\n",
       "    </tr>\n",
       "  </thead>\n",
       "  <tbody>\n",
       "    <tr>\n",
       "      <th>0</th>\n",
       "      <td>New York[c]</td>\n",
       "      <td>NY</td>\n",
       "      <td>8,478,072</td>\n",
       "      <td>300.5</td>\n",
       "    </tr>\n",
       "    <tr>\n",
       "      <th>1</th>\n",
       "      <td>Los Angeles</td>\n",
       "      <td>CA</td>\n",
       "      <td>3,878,704</td>\n",
       "      <td>469.5</td>\n",
       "    </tr>\n",
       "    <tr>\n",
       "      <th>2</th>\n",
       "      <td>Chicago</td>\n",
       "      <td>IL</td>\n",
       "      <td>2,721,308</td>\n",
       "      <td>227.7</td>\n",
       "    </tr>\n",
       "    <tr>\n",
       "      <th>3</th>\n",
       "      <td>Houston</td>\n",
       "      <td>TX</td>\n",
       "      <td>2,390,125</td>\n",
       "      <td>640.4</td>\n",
       "    </tr>\n",
       "    <tr>\n",
       "      <th>4</th>\n",
       "      <td>Phoenix</td>\n",
       "      <td>AZ</td>\n",
       "      <td>1,673,164</td>\n",
       "      <td>518.0</td>\n",
       "    </tr>\n",
       "    <tr>\n",
       "      <th>...</th>\n",
       "      <td>...</td>\n",
       "      <td>...</td>\n",
       "      <td>...</td>\n",
       "      <td>...</td>\n",
       "    </tr>\n",
       "    <tr>\n",
       "      <th>341</th>\n",
       "      <td>Deltona</td>\n",
       "      <td>FL</td>\n",
       "      <td>100,513</td>\n",
       "      <td>37.3</td>\n",
       "    </tr>\n",
       "    <tr>\n",
       "      <th>342</th>\n",
       "      <td>Federal Way</td>\n",
       "      <td>WA</td>\n",
       "      <td>100,252</td>\n",
       "      <td>22.3</td>\n",
       "    </tr>\n",
       "    <tr>\n",
       "      <th>343</th>\n",
       "      <td>San Angelo</td>\n",
       "      <td>TX</td>\n",
       "      <td>100,159</td>\n",
       "      <td>59.7</td>\n",
       "    </tr>\n",
       "    <tr>\n",
       "      <th>344</th>\n",
       "      <td>Tracy</td>\n",
       "      <td>CA</td>\n",
       "      <td>100,136</td>\n",
       "      <td>25.9</td>\n",
       "    </tr>\n",
       "    <tr>\n",
       "      <th>345</th>\n",
       "      <td>Sunrise</td>\n",
       "      <td>FL</td>\n",
       "      <td>100,128</td>\n",
       "      <td>16.2</td>\n",
       "    </tr>\n",
       "  </tbody>\n",
       "</table>\n",
       "<p>346 rows × 4 columns</p>\n",
       "</div>"
      ],
      "text/plain": [
       "            city state population (2024 estimate) 2020 land area (sq mi)\n",
       "0    New York[c]    NY                  8,478,072                  300.5\n",
       "1    Los Angeles    CA                  3,878,704                  469.5\n",
       "2        Chicago    IL                  2,721,308                  227.7\n",
       "3        Houston    TX                  2,390,125                  640.4\n",
       "4        Phoenix    AZ                  1,673,164                  518.0\n",
       "..           ...   ...                        ...                    ...\n",
       "341      Deltona    FL                    100,513                   37.3\n",
       "342  Federal Way    WA                    100,252                   22.3\n",
       "343   San Angelo    TX                    100,159                   59.7\n",
       "344        Tracy    CA                    100,136                   25.9\n",
       "345      Sunrise    FL                    100,128                   16.2\n",
       "\n",
       "[346 rows x 4 columns]"
      ]
     },
     "execution_count": 50,
     "metadata": {},
     "output_type": "execute_result"
    }
   ],
   "source": [
    "cities_df = pd.DataFrame(rows)\n",
    "cities_df"
   ]
  },
  {
   "cell_type": "markdown",
   "metadata": {
    "id": "6s3tH82XZ1X0"
   },
   "source": [
    "Hints:\n",
    "\n",
    "- Each city is a row in the table; find all the `<tr>` tags to find all the cities\n",
    "- Look for the `<td>` tag to see table entries within a row\n",
    "- The rank column is represented by `<th>` tags, rather than `<td>` tags. So within a row, the first (that is, `[0]`) `<td>` tag corresponds to the city name."
   ]
  },
  {
   "cell_type": "markdown",
   "metadata": {
    "id": "ctj79YpgX6hw"
   },
   "source": [
    "## Scraping information that is NOT in a `<table>` with Beautiful Soup"
   ]
  },
  {
   "cell_type": "markdown",
   "metadata": {
    "id": "KK6rJQbuuWwF"
   },
   "source": [
    "The Cal Poly course catalog http://catalog.calpoly.edu/collegesandprograms/collegeofsciencemathematics/statistics/#courseinventory contains a list of courses offered by the Statistics department. **You will scrape this website to obtain a Pandas data frame with one row for each DATA or STAT course and two columns: course name and number (e.g, DATA 301. Introduction to Data Science) and term typically offered (e.g., Term Typically Offered: F, W, SP).**"
   ]
  },
  {
   "cell_type": "markdown",
   "metadata": {
    "id": "hbLLrwxs0eWd"
   },
   "source": [
    "Note: Pandas `read_html` is not help here since the courses are not stored in a `<table>.`"
   ]
  },
  {
   "cell_type": "code",
   "execution_count": 11,
   "metadata": {
    "colab": {
     "base_uri": "https://localhost:8080/"
    },
    "id": "QIRewkca0jhz",
    "outputId": "c255fd81-763a-465b-b7f2-c0404f7f5336"
   },
   "outputs": [
    {
     "data": {
      "text/plain": [
       "[                                        Program name   Program type\n",
       " 0                              Actuarial Preparation          Minor\n",
       " 1  Cross Disciplinary Studies Minor in Bioinforma...          Minor\n",
       " 2   Cross Disciplinary Studies Minor in Data Science          Minor\n",
       " 3                                         Statistics  BS, MS, Minor]"
      ]
     },
     "execution_count": 51,
     "metadata": {},
     "output_type": "execute_result"
    }
   ],
   "source": [
    "pd.read_html(\"http://catalog.calpoly.edu/collegesandprograms/collegeofsciencemathematics/statistics/#courseinventory\")"
   ]
  },
  {
   "cell_type": "markdown",
   "metadata": {
    "id": "lvSrhxS4Se7a"
   },
   "source": [
    "\n",
    "Notes/suggestions:\n",
    "\n",
    "\n",
    "- Inspect the page source as you write your code\n",
    "- The courses are not stored in a `<table>`. How are they stored?\n",
    "- You will need to write a loop to get the information for all courses, but you might want to try just scraping the info for DATA 100 first\n",
    "- What kind of tag is the course name stored in? What is the `class` of the tag?\n",
    "- What kind of tag is the quarter(s) the course is offered stored in? What is the `class` of the tag? Is this the only tag of this type with the class? How will you get the one you want?\n",
    "- You don't have to remove the number of units (e.g., 4 units) from the course name and number, but you can try it if you want\n",
    "- You will need to pull the text from the tag. If `.text` returns text with \"\\n\" at the end, try `get_text(strip = True)` instead of `text`\n",
    "- Don't forget to convert to a Pandas Data Frame; it should have 74 rows and 2 columns\n",
    "- The goal of this exercise is just to create the Data Frame. If you were going to use it then you might need to clean the data first. (You can use Beautiful Soup to do some of the cleaning for you, but that goes beyond our scope.)\n",
    "\n"
   ]
  },
  {
   "cell_type": "code",
   "execution_count": 12,
   "metadata": {
    "id": "ZbW6xon4vICB"
   },
   "outputs": [],
   "source": [
    "# YOUR CODE HERE. ADD AS MANY CELLS AS NEEDED"
   ]
  },
  {
   "cell_type": "code",
   "execution_count": 13,
   "metadata": {
    "id": "Nh0Wi0Fmp9E5"
   },
   "outputs": [],
   "source": [
    "response = requests.get(\"https://catalog.calpoly.edu/collegesandprograms/collegeofsciencemathematics/statistics/#courseinventory\")\n",
    "soup = BeautifulSoup(response.content, \"html.parser\")"
   ]
  },
  {
   "cell_type": "code",
   "execution_count": 14,
   "metadata": {
    "colab": {
     "base_uri": "https://localhost:8080/"
    },
    "id": "EW2sWIGavIFc",
    "outputId": "434c548e-fe2a-4772-e82a-04c9300c51f8"
   },
   "outputs": [
    {
     "data": {
      "text/plain": [
       "<div class=\"courseblock\">\n",
       "<p class=\"courseblocktitle\"><strong>DATA 100. Data Science for All I.\n",
       "<span class=\"courseblockhours\">4 units\n",
       "</span></strong></p><div class=\"noindent courseextendedwrap\">\n",
       "<p class=\"noindent\">Term Typically Offered: F, W, SP</p><p class=\"noindent\">2020-21 or later catalog: GE Area B4</p><p class=\"noindent\">2019-20 or earlier catalog: GE Area B4</p><p>Prerequisite: <a class=\"bubblelink code\" href=\"/search/?P=MATH%20115\" onclick=\"return showCourse(this, 'MATH 115');\" title=\"MATH 115\">MATH 115</a>, <a class=\"bubblelink code\" href=\"/search/?P=MATH%20116\" onclick=\"return showCourse(this, 'MATH 116');\" title=\"MATH 116\">MATH 116</a>, <a class=\"bubblelink code\" href=\"/search/?P=MATH%20118\" onclick=\"return showCourse(this, 'MATH 118');\" title=\"MATH 118\">MATH 118</a>, or Appropriate Math Placement Level.</p></div>\n",
       "<div class=\"courseblockdesc\">\n",
       "<p>Basic approaches for answering questions using data.  Emphasis on working with tabular data in spreadsheet software to provide insights via descriptions and visualizations.  Methods of acquiring data.  Sampling bias, variability, and multi-variable thinking.  Introduction to data modeling and data ethics.  Intended for students in non-computing disciplines.  Not open to students with credit in <a class=\"bubblelink code\" href=\"/search/?P=STAT%20150\" onclick=\"return showCourse(this, 'STAT 150');\" title=\"STAT 150\">STAT 150</a>, <a class=\"bubblelink code\" href=\"/search/?P=STAT%20252\" onclick=\"return showCourse(this, 'STAT 252');\" title=\"STAT 252\">STAT 252</a>, <a class=\"bubblelink code\" href=\"/search/?P=STAT%20302\" onclick=\"return showCourse(this, 'STAT 302');\" title=\"STAT 302\">STAT 302</a>, <a class=\"bubblelink code\" href=\"/search/?P=STAT%20312\" onclick=\"return showCourse(this, 'STAT 312');\" title=\"STAT 312\">STAT 312</a>, or <a class=\"bubblelink code\" href=\"/search/?P=STAT%20313\" onclick=\"return showCourse(this, 'STAT 313');\" title=\"STAT 313\">STAT 313</a>.  Course may be offered in a classroom-based, online, or hybrid format.  4 lectures.  Fulfills GE Area B4 (GE Area B1 for students on the 2019-20 or earlier catalogs); a grade of C- or better is required in one course in this GE area.</p>\n",
       "</div>\n",
       "</div>"
      ]
     },
     "execution_count": 54,
     "metadata": {},
     "output_type": "execute_result"
    }
   ],
   "source": [
    "courses = soup.find_all(\"div\", class_=\"courseblock\")\n",
    "courses[0]"
   ]
  },
  {
   "cell_type": "code",
   "execution_count": 15,
   "metadata": {
    "colab": {
     "base_uri": "https://localhost:8080/"
    },
    "id": "czwA88cjquVd",
    "outputId": "56ce2bc0-3c22-42c9-9f4d-ff8c653df287"
   },
   "outputs": [],
   "source": [
    "course_rows = []\n",
    "\n",
    "for course in courses:\n",
    "  name = course.find(\"p\", class_ = \"courseblocktitle\").text.splitlines()[0]\n",
    "  #print(name)\n",
    "\n",
    "  term = course.find(\"p\", class_ = \"noindent\").text.split(\": \")[1]\n",
    "  #print(term)\n",
    "\n",
    "  course_rows.append({\"Course Name & Number\": name, \"Term Typically Offered\": term})"
   ]
  },
  {
   "cell_type": "code",
   "execution_count": 16,
   "metadata": {
    "colab": {
     "base_uri": "https://localhost:8080/",
     "height": 423
    },
    "id": "5W52B6pRtBV7",
    "outputId": "8dc1374d-cd70-4808-f41d-847a3ebb0811"
   },
   "outputs": [
    {
     "data": {
      "text/html": [
       "<div>\n",
       "<style scoped>\n",
       "    .dataframe tbody tr th:only-of-type {\n",
       "        vertical-align: middle;\n",
       "    }\n",
       "\n",
       "    .dataframe tbody tr th {\n",
       "        vertical-align: top;\n",
       "    }\n",
       "\n",
       "    .dataframe thead th {\n",
       "        text-align: right;\n",
       "    }\n",
       "</style>\n",
       "<table border=\"1\" class=\"dataframe\">\n",
       "  <thead>\n",
       "    <tr style=\"text-align: right;\">\n",
       "      <th></th>\n",
       "      <th>Course Name &amp; Number</th>\n",
       "      <th>Term Typically Offered</th>\n",
       "    </tr>\n",
       "  </thead>\n",
       "  <tbody>\n",
       "    <tr>\n",
       "      <th>0</th>\n",
       "      <td>DATA 100. Data Science for All I.</td>\n",
       "      <td>F, W, SP</td>\n",
       "    </tr>\n",
       "    <tr>\n",
       "      <th>1</th>\n",
       "      <td>DATA 301. Introduction to Data Science.</td>\n",
       "      <td>F, W, SP</td>\n",
       "    </tr>\n",
       "    <tr>\n",
       "      <th>2</th>\n",
       "      <td>DATA 401. Data Science Process and Ethics.</td>\n",
       "      <td>F</td>\n",
       "    </tr>\n",
       "    <tr>\n",
       "      <th>3</th>\n",
       "      <td>DATA 402. Mathematical Foundations of Data Sci...</td>\n",
       "      <td>F</td>\n",
       "    </tr>\n",
       "    <tr>\n",
       "      <th>4</th>\n",
       "      <td>DATA 403. Data Science Projects Laboratory.</td>\n",
       "      <td>F</td>\n",
       "    </tr>\n",
       "    <tr>\n",
       "      <th>...</th>\n",
       "      <td>...</td>\n",
       "      <td>...</td>\n",
       "    </tr>\n",
       "    <tr>\n",
       "      <th>69</th>\n",
       "      <td>STAT 551. Statistical Learning with R.</td>\n",
       "      <td>F</td>\n",
       "    </tr>\n",
       "    <tr>\n",
       "      <th>70</th>\n",
       "      <td>STAT 566. Graduate Consulting Practicum.</td>\n",
       "      <td>SP</td>\n",
       "    </tr>\n",
       "    <tr>\n",
       "      <th>71</th>\n",
       "      <td>STAT 570. Selected Advanced Topics.</td>\n",
       "      <td>TBD</td>\n",
       "    </tr>\n",
       "    <tr>\n",
       "      <th>72</th>\n",
       "      <td>STAT 590. Graduate Seminar in Statistics.</td>\n",
       "      <td>F, W, SP</td>\n",
       "    </tr>\n",
       "    <tr>\n",
       "      <th>73</th>\n",
       "      <td>STAT 599. Thesis.</td>\n",
       "      <td>TBD</td>\n",
       "    </tr>\n",
       "  </tbody>\n",
       "</table>\n",
       "<p>74 rows × 2 columns</p>\n",
       "</div>"
      ],
      "text/plain": [
       "                                 Course Name & Number Term Typically Offered\n",
       "0                   DATA 100. Data Science for All I.               F, W, SP\n",
       "1             DATA 301. Introduction to Data Science.               F, W, SP\n",
       "2          DATA 401. Data Science Process and Ethics.                      F\n",
       "3   DATA 402. Mathematical Foundations of Data Sci...                      F\n",
       "4         DATA 403. Data Science Projects Laboratory.                      F\n",
       "..                                                ...                    ...\n",
       "69             STAT 551. Statistical Learning with R.                      F\n",
       "70           STAT 566. Graduate Consulting Practicum.                     SP\n",
       "71                STAT 570. Selected Advanced Topics.                    TBD\n",
       "72          STAT 590. Graduate Seminar in Statistics.               F, W, SP\n",
       "73                                  STAT 599. Thesis.                    TBD\n",
       "\n",
       "[74 rows x 2 columns]"
      ]
     },
     "execution_count": 56,
     "metadata": {},
     "output_type": "execute_result"
    }
   ],
   "source": [
    "courses_df = pd.DataFrame(course_rows)\n",
    "courses_df"
   ]
  },
  {
   "cell_type": "markdown",
   "metadata": {
    "id": "17e8M_OsaHJz"
   },
   "source": [
    "Hints:\n",
    "\n",
    "- Each course is represented by a `<div>` with `class=courseblock`, so you can find all the courses with `soup.find_all(\"div\", {\"class\": \"courseblock\"})`\n",
    "- The course name is in a `<p>` tag with `class=courseblocktitle`, inside a `<strong>` tag. (Though I don't think we need to find the strong tag here.)\n",
    "- The term typically offered is in `<p>` tag with `class=noindent`. However, there are several tags with this class; term typically offered is the first one.\n",
    "- If you want to use Beautiful Soup to remove the course units (e.g., 4 units), find the `<span>` tag within the course name tag and `.extract()` this span tag"
   ]
  }
 ],
 "metadata": {
  "colab": {
   "provenance": []
  },
  "kernelspec": {
   "display_name": "Python 3",
   "name": "python3"
  },
  "language_info": {
   "name": "python"
  }
 },
 "nbformat": 4,
 "nbformat_minor": 0
}
